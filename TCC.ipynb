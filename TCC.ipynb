{
 "cells": [
  {
   "cell_type": "raw",
   "id": "61c6e859-0270-4aea-a034-8218bdff323a",
   "metadata": {},
   "source": [
    "This Notebook corresponds to the experiment developed by Bruno Eduardo Madeira, under the supervision\n",
    "of Flávio Arthur Leal Ferreira, as the final project of the specialization course in Data Science and Artificial Intelligence from PUC-RS (Brazil).\n",
    "The goal of the project was to analize if the simulated data available in the 3W dataset (https://www.kaggle.com/datasets/afrniomelo/3w-dataset) could be used in models that do not use feature engineering in order to detect problems in oil wells. The results show evidences that the signals of sensor created by simulation in the 3W dataset present patterns that are not presented in real ones. As a consequence, models trained without feature engenieering must be used with caution.\n",
    "In our experiment we have used a Dilated Causal Convolution Network in order to show that it makes a good classification of faults when both training and test sets are real or simulated, but it performs bad when the model is trained with simulated data and tested in real one. In this case, the model has not been able to detect any defect in the oil wells.\n",
    "In our experiment, we just have considered the detection of RAPID PRODUCTIVITY LOSS problems."
   ]
  },
  {
   "cell_type": "code",
   "execution_count": 1,
   "id": "e9f8a349-f2f4-4d2c-8ea5-0a9603ffacc3",
   "metadata": {},
   "outputs": [],
   "source": [
    "import os\n",
    "\n",
    "import numpy as np\n",
    "import pandas as pd\n",
    "import matplotlib.pyplot as plt\n",
    "import random\n",
    "\n",
    "import scipy.spatial\n",
    "import sklearn.preprocessing\n",
    "from sklearn.preprocessing import OneHotEncoder\n",
    "from sklearn.metrics import confusion_matrix, ConfusionMatrixDisplay\n",
    "import keras\n",
    "\n",
    "import tensorflow as tf\n",
    "from tensorflow.keras.utils import to_categorical\n",
    "from tensorflow.keras.preprocessing.sequence import pad_sequences"
   ]
  },
  {
   "cell_type": "markdown",
   "id": "51700507-0f37-4135-96b9-a3b91dd89f8a",
   "metadata": {},
   "source": [
    "\n",
    "**Consider only RAPID PRODUCTIVITY LOSS fault classification.**\n"
   ]
  },
  {
   "cell_type": "code",
   "execution_count": 2,
   "id": "afe3da68-f1f9-4921-8918-2efa9d09a67d",
   "metadata": {},
   "outputs": [],
   "source": [
    "EVENT = 5\n"
   ]
  },
  {
   "cell_type": "code",
   "execution_count": 3,
   "id": "94126ce4-ae06-4c04-b76d-58ed8cb0467b",
   "metadata": {},
   "outputs": [],
   "source": [
    "#initialize the random state\n",
    "\n",
    "random.seed(42)\n",
    "np.random.seed(42)\n",
    "tf.random.set_seed(42)"
   ]
  },
  {
   "cell_type": "markdown",
   "id": "02557e12-2ceb-4b41-8b85-bf53312f1cdd",
   "metadata": {},
   "source": [
    "\n",
    "**Code that reads the dataset 3W version 2. This is the code written by Afrânio (afrniomelo) in the same Kaggle´s dataset.** \n"
   ]
  },
  {
   "cell_type": "code",
   "execution_count": 4,
   "id": "2319a930",
   "metadata": {
    "scrolled": true
   },
   "outputs": [
    {
     "name": "stdout",
     "output_type": "stream",
     "text": [
      "Data read!\n",
      "Number of instances:  450\n",
      "Number of real instances:  11\n",
      "CPU times: total: 7.59 s\n",
      "Wall time: 22.1 s\n"
     ]
    }
   ],
   "source": [
    "%%time\n",
    "\n",
    "PATH = f'./3W/{EVENT}/'\n",
    "\n",
    "files = [f for f in os.listdir(PATH) if os.path.isfile(os.path.join(PATH, f))]\n",
    "files\n",
    "\n",
    "dfs = {}\n",
    "\n",
    "\n",
    "for file in files:\n",
    "    dfs[file[:-4]] = pd.read_csv(f'{PATH}{file}', index_col = 0,\n",
    "                     parse_dates = True).rename_axis(None)\n",
    "\n",
    "wells_numbers = []\n",
    "    \n",
    "for key in dfs.keys():\n",
    "    if 'SIMULATED' in key or 'DRAWN' in key:\n",
    "        continue\n",
    "    else:\n",
    "        wells_numbers.append(int(key[8:10]))\n",
    "        \n",
    "print('Data read!\\nNumber of instances: ',len(dfs))\n",
    "print('Number of real instances: ',len(wells_numbers))\n"
   ]
  },
  {
   "cell_type": "markdown",
   "id": "00a15677-69d0-4657-9fb7-470f9978c4e5",
   "metadata": {},
   "source": [
    "\n",
    "**Preprocessing simulated data.**\n"
   ]
  },
  {
   "cell_type": "code",
   "execution_count": 5,
   "id": "d9168661-2bfc-440c-a2ab-307c8a48ec61",
   "metadata": {
    "scrolled": true
   },
   "outputs": [],
   "source": [
    "time_series = []\n",
    "\n",
    "for key in dfs.keys():\n",
    "  if 'SIMULATED' in key:\n",
    "    df = dfs[key].copy()  \n",
    "    df.bfill(axis = 0, inplace=True)\n",
    "    df.ffill(axis = 0, inplace=True)\n",
    "    df = df.iloc[::3]\n",
    "    df.drop(['P-JUS-CKGL', 'T-JUS-CKGL', 'QGL' ], axis = 1, inplace = True ) \n",
    "    \n",
    "    if 'class_5.0' in df.columns:\n",
    "      df.rename(columns={'class_5.0': 'class_5'}, inplace=True)\n",
    "    if 'class_0.0' in df.columns:\n",
    "      df.rename(columns={'class_0.0': 'class_0'}, inplace=True)\n",
    "    if 'class_105.0' in df.columns:\n",
    "      df.rename(columns={'class_105.0': 'class_105'}, inplace=True)\n",
    "    \n",
    "    if 5 not in df['class'].values:\n",
    "      df['class_5'] = False\n",
    "    if 0 not in df['class'].values:\n",
    "      df['class_0'] = False\n",
    "    if 105 not in df['class'].values:\n",
    "      df['class_105'] = False\n",
    "        \n",
    "    df = pd.get_dummies(df, columns=['class'], dummy_na = False)\n",
    "    time_series.append(df)  "
   ]
  },
  {
   "cell_type": "markdown",
   "id": "363c6b85-e731-4324-860f-f93ec6256ba7",
   "metadata": {
    "scrolled": true
   },
   "source": [
    "\n",
    "**Preprocessing Real Data.** \n"
   ]
  },
  {
   "cell_type": "code",
   "execution_count": 6,
   "id": "202d05e2-86f3-4079-bd26-dafe1143dc4a",
   "metadata": {
    "scrolled": true
   },
   "outputs": [
    {
     "name": "stdout",
     "output_type": "stream",
     "text": [
      "False\n",
      "False\n",
      "False\n",
      "False\n",
      "False\n",
      "False\n",
      "False\n",
      "False\n",
      "False\n",
      "False\n",
      "False\n"
     ]
    }
   ],
   "source": [
    "time_series2 = []\n",
    "\n",
    "\n",
    "for key in dfs.keys():\n",
    "  if ('WELL' in key):\n",
    "     \n",
    "    df = dfs[key].copy()\n",
    "    df = df.dropna(subset = ['class'])\n",
    "    df.bfill(axis = 0, inplace=True)\n",
    "    df.ffill(axis = 0, inplace=True)    \n",
    "    df = df.iloc[::3]\n",
    "    df.drop(['P-JUS-CKGL', 'T-JUS-CKGL', 'QGL' ], axis = 1, inplace = True ) \n",
    "        \n",
    "    if 'class_5.0' in df.columns:\n",
    "      df.rename(columns={'class_5.0': 'class_5'}, inplace=True)\n",
    "    if 'class_0.0' in df.columns:\n",
    "      df.rename(columns={'class_0.0': 'class_0'}, inplace=True)\n",
    "    if 'class_105.0' in df.columns:\n",
    "      df.rename(columns={'class_105.0': 'class_105'}, inplace=True)\n",
    "    \n",
    "    \n",
    "    if 5 not in df['class'].values:\n",
    "      df['class_5'] = False\n",
    "    if 0 not in df['class'].values:\n",
    "      df['class_0'] = False\n",
    "    if 105 not in df['class'].values:\n",
    "      df['class_105'] = False\n",
    "            \n",
    "    df = pd.get_dummies(df, columns=['class'], dummy_na = False)\n",
    "\n",
    "    #check if there is any nan\n",
    "    is_there_nan = df.isna().any().any()\n",
    "    print(is_there_nan)\n",
    "    time_series2.append(df)  \n"
   ]
  },
  {
   "cell_type": "code",
   "execution_count": 7,
   "id": "983893d2-191b-4540-80e7-a97f713353bb",
   "metadata": {},
   "outputs": [],
   "source": [
    "def get_label(df):\n",
    "    if  (('class_0' in df ) and df['class_0'].all()) or (('class_0.0' in df ) and df['class_0.0'].all()):\n",
    "       return 0\n",
    "    else:\n",
    "       return 1\n",
    "    "
   ]
  },
  {
   "cell_type": "markdown",
   "id": "7ec4ab1a-7cd6-4bff-8215-d365bd033763",
   "metadata": {},
   "source": [
    "\n",
    "**Auxiliar function that creates slider windows. The parameters \"ncop1\" and \"ncop2\" are used to balance the fault and non fault number of instances.**\n"
   ]
  },
  {
   "cell_type": "code",
   "execution_count": 8,
   "id": "089ef532-4991-4674-9dce-46ea85ffd78f",
   "metadata": {},
   "outputs": [],
   "source": [
    "def generate_instantes_from_dataframe(list_var, list_label, time_serie, window_length, \n",
    "                                      sample_period1, sample_period2, k, ncop1, ncop2 ) :\n",
    "   \n",
    "     i = 0\n",
    "     while (i + window_length) < time_serie.shape[0]:\n",
    "        var = time_serie.iloc[ i: i + window_length, 0:5] \n",
    "        label = get_label(time_serie.iloc[ i: i + window_length ]) \n",
    "          \n",
    "        if label == 1:\n",
    "           k[1] += 1\n",
    "           i += sample_period1\n",
    "           for aux in range(ncop2):  \n",
    "              list_label.append(label)\n",
    "              list_var.append(var)  \n",
    "        else: \n",
    "           k[0] += 1\n",
    "           i += sample_period2 \n",
    "           for aux in range(ncop1):  \n",
    "              list_label.append(label)\n",
    "              list_var.append(var)\n",
    "            "
   ]
  },
  {
   "cell_type": "markdown",
   "id": "2fc9c0a1-792d-478d-81af-39957d8b0d51",
   "metadata": {},
   "source": [
    "\n",
    "**Creates the slider windows made by real data.**\n"
   ]
  },
  {
   "cell_type": "code",
   "execution_count": 9,
   "id": "81cc1b11",
   "metadata": {},
   "outputs": [
    {
     "name": "stdout",
     "output_type": "stream",
     "text": [
      "0\n",
      "Index(['P-PDG', 'P-TPT', 'T-TPT', 'P-MON-CKP', 'T-JUS-CKP', 'class_0.0',\n",
      "       'class_5.0', 'class_105.0'],\n",
      "      dtype='object')\n",
      "[15165, 2986]\n",
      "1\n",
      "Index(['P-PDG', 'P-TPT', 'T-TPT', 'P-MON-CKP', 'T-JUS-CKP', 'class_0.0',\n",
      "       'class_5.0', 'class_105.0'],\n",
      "      dtype='object')\n",
      "[15639, 3689]\n",
      "2\n",
      "Index(['P-PDG', 'P-TPT', 'T-TPT', 'P-MON-CKP', 'T-JUS-CKP', 'class_5',\n",
      "       'class_0.0', 'class_105.0'],\n",
      "      dtype='object')\n",
      "[15688, 4056]\n",
      "3\n",
      "Index(['P-PDG', 'P-TPT', 'T-TPT', 'P-MON-CKP', 'T-JUS-CKP', 'class_0.0',\n",
      "       'class_5.0', 'class_105.0'],\n",
      "      dtype='object')\n",
      "[15695, 4987]\n",
      "4\n",
      "Index(['P-PDG', 'P-TPT', 'T-TPT', 'P-MON-CKP', 'T-JUS-CKP', 'class_0.0',\n",
      "       'class_5.0', 'class_105.0'],\n",
      "      dtype='object')\n",
      "[16021, 8473]\n",
      "5\n",
      "Index(['P-PDG', 'P-TPT', 'T-TPT', 'P-MON-CKP', 'T-JUS-CKP', 'class_0.0',\n",
      "       'class_5.0', 'class_105.0'],\n",
      "      dtype='object')\n",
      "[17119, 54591]\n",
      "6\n",
      "Index(['P-PDG', 'P-TPT', 'T-TPT', 'P-MON-CKP', 'T-JUS-CKP', 'class_0.0',\n",
      "       'class_5.0', 'class_105.0'],\n",
      "      dtype='object')\n",
      "[19948, 65280]\n",
      "7\n",
      "Index(['P-PDG', 'P-TPT', 'T-TPT', 'P-MON-CKP', 'T-JUS-CKP', 'class_5',\n",
      "       'class_0.0', 'class_105.0'],\n",
      "      dtype='object')\n",
      "[21039, 78398]\n"
     ]
    }
   ],
   "source": [
    "k = [0,0]\n",
    "window_length = 120\n",
    "\n",
    "instances_var = []\n",
    "instances_label = []\n",
    "\n",
    "k = [0,0]\n",
    "for j in range(0,8):\n",
    "   df = time_series2[j]  # time_series2 is the real data\n",
    "   print(j)\n",
    "   print(df.columns)\n",
    "   generate_instantes_from_dataframe(instances_var, instances_label, df, window_length, \n",
    "                                     1, 1, k, 4, 1 )\n",
    "   print( k )"
   ]
  },
  {
   "cell_type": "code",
   "execution_count": 10,
   "id": "6d83349e-b439-40dc-946e-cdb5ab76de67",
   "metadata": {},
   "outputs": [],
   "source": [
    "X = np.array(instances_var)\n",
    "del instances_var\n",
    "Y = np.array(instances_label)\n",
    "del instances_label"
   ]
  },
  {
   "cell_type": "markdown",
   "id": "2690d1fc-07a1-4e27-9221-6b9860bfea07",
   "metadata": {},
   "source": [
    "\n",
    "**Shuffle the slider windows.**\n"
   ]
  },
  {
   "cell_type": "code",
   "execution_count": 11,
   "id": "f4b178c1",
   "metadata": {},
   "outputs": [],
   "source": [
    "indices = np.random.permutation(X.shape[0])\n",
    "X_shuffled = X[indices]\n",
    "del X\n",
    "Y_shuffled = Y[indices]\n",
    "del Y"
   ]
  },
  {
   "cell_type": "code",
   "execution_count": 12,
   "id": "2c6f8f25",
   "metadata": {},
   "outputs": [
    {
     "data": {
      "text/plain": [
       "(162554, 120, 5)"
      ]
     },
     "execution_count": 12,
     "metadata": {},
     "output_type": "execute_result"
    }
   ],
   "source": [
    "X_shuffled.shape"
   ]
  },
  {
   "cell_type": "code",
   "execution_count": 13,
   "id": "b76d4920",
   "metadata": {},
   "outputs": [
    {
     "data": {
      "text/plain": [
       "(162554,)"
      ]
     },
     "execution_count": 13,
     "metadata": {},
     "output_type": "execute_result"
    }
   ],
   "source": [
    "Y_shuffled.shape"
   ]
  },
  {
   "cell_type": "markdown",
   "id": "7b05279d-f6ed-4538-ae18-5786935abae5",
   "metadata": {},
   "source": [
    "\n",
    "**Split the data into training and testing.**\n"
   ]
  },
  {
   "cell_type": "code",
   "execution_count": 14,
   "id": "801f1fc1-e826-4a74-8d9c-b5ddfc7bb464",
   "metadata": {},
   "outputs": [],
   "source": [
    "train_size = int(len(X_shuffled) * 0.8)\n",
    "X_train, X_test = X_shuffled[:train_size], X_shuffled[train_size:]\n",
    "del X_shuffled\n",
    "y_train, y_test = Y_shuffled[:train_size], Y_shuffled[train_size:]\n",
    "del Y_shuffled"
   ]
  },
  {
   "cell_type": "code",
   "execution_count": 15,
   "id": "c73a4df8",
   "metadata": {},
   "outputs": [
    {
     "data": {
      "text/plain": [
       "(130043, 120, 5)"
      ]
     },
     "execution_count": 15,
     "metadata": {},
     "output_type": "execute_result"
    }
   ],
   "source": [
    "X_train.shape\n"
   ]
  },
  {
   "cell_type": "code",
   "execution_count": 16,
   "id": "1d026d74-a43d-481b-a022-f1518fa41c3e",
   "metadata": {
    "scrolled": true
   },
   "outputs": [
    {
     "data": {
      "text/plain": [
       "False"
      ]
     },
     "execution_count": 16,
     "metadata": {},
     "output_type": "execute_result"
    }
   ],
   "source": [
    "np.any(np.isnan(X_test))"
   ]
  },
  {
   "cell_type": "markdown",
   "id": "41f6247f-ba65-4e27-af97-854226c48485",
   "metadata": {
    "scrolled": true
   },
   "source": [
    "**Defining the model.**"
   ]
  },
  {
   "cell_type": "code",
   "execution_count": 17,
   "id": "eaded252",
   "metadata": {
    "scrolled": true
   },
   "outputs": [],
   "source": [
    "from keras.regularizers import l2\n",
    "\n",
    "model = keras.models.Sequential()\n",
    "model.add( keras.layers.InputLayer( input_shape=[None,5]))\n",
    "for rate in (1, 2, 4, 8, 16 ) * 2:\n",
    "    model.add(keras.layers.Conv1D(filters=rate,\n",
    "                     kernel_size=2,\n",
    "                     padding=\"causal\",\n",
    "                     activation=\"elu\",\n",
    "                     dilation_rate=rate ))  \n",
    "    model.add(keras.layers.BatchNormalization())\n",
    "\n",
    "model.add(keras.layers.GlobalAveragePooling1D())\n",
    "model.add(keras.layers.Dense(1, activation=\"sigmoid\"))"
   ]
  },
  {
   "cell_type": "code",
   "execution_count": 18,
   "id": "c39e7997-531f-419a-b79e-e61a7ff8177c",
   "metadata": {},
   "outputs": [],
   "source": [
    "checkpoint = tf.keras.callbacks.ModelCheckpoint(\n",
    "    'best_model.keras', \n",
    "    monitor='val_loss', \n",
    "    save_best_only=True, \n",
    "    mode='min',          \n",
    "    verbose=1           \n",
    ")"
   ]
  },
  {
   "cell_type": "code",
   "execution_count": 19,
   "id": "d50e986d-1593-4054-be48-446138538608",
   "metadata": {},
   "outputs": [],
   "source": [
    "model.compile(optimizer='adam', loss='binary_crossentropy', metrics=['accuracy'])"
   ]
  },
  {
   "cell_type": "markdown",
   "id": "66a4f672",
   "metadata": {
    "jp-MarkdownHeadingCollapsed": true
   },
   "source": [
    "**Training the model using the real data.**"
   ]
  },
  {
   "cell_type": "markdown",
   "id": "bc3c9ac0",
   "metadata": {
    "jp-MarkdownHeadingCollapsed": true
   },
   "source": [
    "                    "
   ]
  },
  {
   "cell_type": "code",
   "execution_count": 20,
   "id": "dfc3e6f0",
   "metadata": {},
   "outputs": [
    {
     "name": "stdout",
     "output_type": "stream",
     "text": [
      "Epoch 1/10\n",
      "51/51 [==============================] - ETA: 0s - loss: 0.5430 - accuracy: 0.7245\n",
      "Epoch 1: val_loss improved from inf to 0.62498, saving model to best_model.keras\n",
      "51/51 [==============================] - 17s 292ms/step - loss: 0.5430 - accuracy: 0.7245 - val_loss: 0.6250 - val_accuracy: 0.5230\n",
      "Epoch 2/10\n",
      "51/51 [==============================] - ETA: 0s - loss: 0.4083 - accuracy: 0.8375\n",
      "Epoch 2: val_loss improved from 0.62498 to 0.57989, saving model to best_model.keras\n",
      "51/51 [==============================] - 14s 283ms/step - loss: 0.4083 - accuracy: 0.8375 - val_loss: 0.5799 - val_accuracy: 0.5230\n",
      "Epoch 3/10\n",
      "51/51 [==============================] - ETA: 0s - loss: 0.4076 - accuracy: 0.8375\n",
      "Epoch 3: val_loss improved from 0.57989 to 0.50904, saving model to best_model.keras\n",
      "51/51 [==============================] - 16s 312ms/step - loss: 0.4076 - accuracy: 0.8375 - val_loss: 0.5090 - val_accuracy: 0.8334\n",
      "Epoch 4/10\n",
      "51/51 [==============================] - ETA: 0s - loss: 0.4076 - accuracy: 0.8375\n",
      "Epoch 4: val_loss improved from 0.50904 to 0.45602, saving model to best_model.keras\n",
      "51/51 [==============================] - 13s 258ms/step - loss: 0.4076 - accuracy: 0.8375 - val_loss: 0.4560 - val_accuracy: 0.8334\n",
      "Epoch 5/10\n",
      "51/51 [==============================] - ETA: 0s - loss: 0.4076 - accuracy: 0.8375\n",
      "Epoch 5: val_loss improved from 0.45602 to 0.42738, saving model to best_model.keras\n",
      "51/51 [==============================] - 12s 238ms/step - loss: 0.4076 - accuracy: 0.8375 - val_loss: 0.4274 - val_accuracy: 0.8334\n",
      "Epoch 6/10\n",
      "51/51 [==============================] - ETA: 0s - loss: 0.4073 - accuracy: 0.8375\n",
      "Epoch 6: val_loss improved from 0.42738 to 0.41624, saving model to best_model.keras\n",
      "51/51 [==============================] - 13s 247ms/step - loss: 0.4073 - accuracy: 0.8375 - val_loss: 0.4162 - val_accuracy: 0.8334\n",
      "Epoch 7/10\n",
      "51/51 [==============================] - ETA: 0s - loss: 0.4068 - accuracy: 0.8375\n",
      "Epoch 7: val_loss did not improve from 0.41624\n",
      "51/51 [==============================] - 15s 298ms/step - loss: 0.4068 - accuracy: 0.8375 - val_loss: 0.4165 - val_accuracy: 0.8334\n",
      "Epoch 8/10\n",
      "51/51 [==============================] - ETA: 0s - loss: 0.4041 - accuracy: 0.8375\n",
      "Epoch 8: val_loss did not improve from 0.41624\n",
      "51/51 [==============================] - 14s 276ms/step - loss: 0.4041 - accuracy: 0.8375 - val_loss: 0.8647 - val_accuracy: 0.5230\n",
      "Epoch 9/10\n",
      "51/51 [==============================] - ETA: 0s - loss: 0.3992 - accuracy: 0.8388\n",
      "Epoch 9: val_loss did not improve from 0.41624\n",
      "51/51 [==============================] - 15s 291ms/step - loss: 0.3992 - accuracy: 0.8388 - val_loss: 0.6862 - val_accuracy: 0.5230\n",
      "Epoch 10/10\n",
      "51/51 [==============================] - ETA: 0s - loss: 0.3990 - accuracy: 0.8400\n",
      "Epoch 10: val_loss did not improve from 0.41624\n",
      "51/51 [==============================] - 13s 254ms/step - loss: 0.3990 - accuracy: 0.8400 - val_loss: 0.4518 - val_accuracy: 0.8334\n"
     ]
    }
   ],
   "source": [
    "history = model.fit(X_train, y_train, \n",
    "                   epochs=10, verbose=1, batch_size=2048,\n",
    "                validation_split=0.2, callbacks=[checkpoint]  ) \n"
   ]
  },
  {
   "cell_type": "markdown",
   "id": "a17c7ee5-1b68-4cc9-b4a3-f44a07d6c76c",
   "metadata": {},
   "source": [
    "\n",
    "**Test the model with real data.**\n"
   ]
  },
  {
   "cell_type": "code",
   "execution_count": 21,
   "id": "01a456b8-6e68-4733-9f9e-643c19f772e6",
   "metadata": {},
   "outputs": [
    {
     "name": "stdout",
     "output_type": "stream",
     "text": [
      "1016/1016 [==============================] - 3s 2ms/step - loss: 0.4076 - accuracy: 0.8387\n",
      "Accuracy in the test set: 0.84\n"
     ]
    }
   ],
   "source": [
    "model = keras.models.load_model('best_model.keras')\n",
    "\n",
    "loss, accuracy = model.evaluate(X_test, y_test)\n",
    "\n",
    "print(f'Accuracy in the test set: {accuracy:.2f}')"
   ]
  },
  {
   "cell_type": "markdown",
   "id": "192102fc-638d-4b9a-8803-7a308af28247",
   "metadata": {},
   "source": [
    "\n",
    "**Get metrics.**\n"
   ]
  },
  {
   "cell_type": "code",
   "execution_count": 22,
   "id": "19166c67-021d-4bbc-98ab-5faaf7b34f99",
   "metadata": {},
   "outputs": [
    {
     "name": "stdout",
     "output_type": "stream",
     "text": [
      "1016/1016 [==============================] - 3s 2ms/step\n",
      "Precision: 0.76, Recall: 0.96, F1 Score: 0.85\n"
     ]
    }
   ],
   "source": [
    "import tensorflow as tf\n",
    "\n",
    "precision = tf.keras.metrics.Precision()\n",
    "recall = tf.keras.metrics.Recall()\n",
    "f1 = tf.keras.metrics.Mean(name='f1_score')\n",
    "\n",
    "y_pred = model.predict(X_test)\n",
    "y_pred_classes = (y_pred > 0.5).astype(int)\n",
    "\n",
    "precision.update_state(y_test, y_pred_classes)\n",
    "recall.update_state(y_test, y_pred_classes)\n",
    "\n",
    "precision_value = precision.result().numpy()\n",
    "recall_value = recall.result().numpy()\n",
    "f1_value = 2 * (precision_value * recall_value) / (precision_value + recall_value + 1e-10)\n",
    "\n",
    "print(f'Precision: {precision_value:.2f}, Recall: {recall_value:.2f}, F1 Score: {f1_value:.2f}')"
   ]
  },
  {
   "cell_type": "markdown",
   "id": "a896a2a5-2057-44ea-9dfb-3c24d5c1a789",
   "metadata": {},
   "source": [
    "**Display the Confusion Matrix related to the process of training and testing with real data. The value 0 corresponds to an absense of problems, and the value 1 corresponds to a fault in the oil well.**"
   ]
  },
  {
   "cell_type": "code",
   "execution_count": 23,
   "id": "f9a3e615-b3ad-475b-998a-d1db7103c486",
   "metadata": {},
   "outputs": [
    {
     "data": {
      "image/png": "[encoded data removed]",
      "text/plain": [
       "<Figure size 640x480 with 2 Axes>"
      ]
     },
     "metadata": {},
     "output_type": "display_data"
    }
   ],
   "source": [
    "import numpy as np\n",
    "import matplotlib.pyplot as plt\n",
    "import tensorflow as tf\n",
    "from sklearn.metrics import confusion_matrix, ConfusionMatrixDisplay\n",
    "from sklearn.model_selection import train_test_split\n",
    "from sklearn.datasets import make_classification\n",
    "\n",
    "cm = confusion_matrix(y_test, y_pred_classes.flatten())\n",
    "\n",
    "disp = ConfusionMatrixDisplay(confusion_matrix=cm)\n",
    "disp.plot(cmap='Blues')\n",
    "plt.title('Confusion matrix')\n",
    "plt.savefig('confusion_matrix1.png', dpi = 300)\n",
    "#plt.show()"
   ]
  },
  {
   "cell_type": "markdown",
   "id": "d2441fcc-0910-455b-91a0-ada00e45d8da",
   "metadata": {},
   "source": [
    "\n",
    "**Select slider windows from a subset of the simulated dataset.**\n",
    "**We are just using 20 time series.**\n"
   ]
  },
  {
   "cell_type": "code",
   "execution_count": 24,
   "id": "6a9744a4",
   "metadata": {},
   "outputs": [
    {
     "name": "stdout",
     "output_type": "stream",
     "text": [
      "0\n",
      "Index(['P-PDG', 'P-TPT', 'T-TPT', 'P-MON-CKP', 'T-JUS-CKP', 'class_0',\n",
      "       'class_5', 'class_105'],\n",
      "      dtype='object')\n",
      "[48, 9599]\n",
      "1\n",
      "Index(['P-PDG', 'P-TPT', 'T-TPT', 'P-MON-CKP', 'T-JUS-CKP', 'class_0',\n",
      "       'class_5', 'class_105'],\n",
      "      dtype='object')\n",
      "[96, 19198]\n",
      "2\n",
      "Index(['P-PDG', 'P-TPT', 'T-TPT', 'P-MON-CKP', 'T-JUS-CKP', 'class_0',\n",
      "       'class_5', 'class_105'],\n",
      "      dtype='object')\n",
      "[144, 28797]\n",
      "3\n",
      "Index(['P-PDG', 'P-TPT', 'T-TPT', 'P-MON-CKP', 'T-JUS-CKP', 'class_0',\n",
      "       'class_5', 'class_105'],\n",
      "      dtype='object')\n",
      "[192, 38396]\n",
      "4\n",
      "Index(['P-PDG', 'P-TPT', 'T-TPT', 'P-MON-CKP', 'T-JUS-CKP', 'class_0',\n",
      "       'class_5', 'class_105'],\n",
      "      dtype='object')\n",
      "[240, 47995]\n",
      "5\n",
      "Index(['P-PDG', 'P-TPT', 'T-TPT', 'P-MON-CKP', 'T-JUS-CKP', 'class_0',\n",
      "       'class_5', 'class_105'],\n",
      "      dtype='object')\n",
      "[288, 57594]\n",
      "6\n",
      "Index(['P-PDG', 'P-TPT', 'T-TPT', 'P-MON-CKP', 'T-JUS-CKP', 'class_0',\n",
      "       'class_5', 'class_105'],\n",
      "      dtype='object')\n",
      "[336, 67193]\n",
      "7\n",
      "Index(['P-PDG', 'P-TPT', 'T-TPT', 'P-MON-CKP', 'T-JUS-CKP', 'class_0',\n",
      "       'class_5', 'class_105'],\n",
      "      dtype='object')\n",
      "[384, 76792]\n",
      "8\n",
      "Index(['P-PDG', 'P-TPT', 'T-TPT', 'P-MON-CKP', 'T-JUS-CKP', 'class_0',\n",
      "       'class_5', 'class_105'],\n",
      "      dtype='object')\n",
      "[432, 86391]\n",
      "9\n",
      "Index(['P-PDG', 'P-TPT', 'T-TPT', 'P-MON-CKP', 'T-JUS-CKP', 'class_0',\n",
      "       'class_5', 'class_105'],\n",
      "      dtype='object')\n",
      "[480, 95990]\n",
      "10\n",
      "Index(['P-PDG', 'P-TPT', 'T-TPT', 'P-MON-CKP', 'T-JUS-CKP', 'class_0',\n",
      "       'class_5', 'class_105'],\n",
      "      dtype='object')\n",
      "[528, 105589]\n",
      "11\n",
      "Index(['P-PDG', 'P-TPT', 'T-TPT', 'P-MON-CKP', 'T-JUS-CKP', 'class_0',\n",
      "       'class_5', 'class_105'],\n",
      "      dtype='object')\n",
      "[576, 115188]\n",
      "12\n",
      "Index(['P-PDG', 'P-TPT', 'T-TPT', 'P-MON-CKP', 'T-JUS-CKP', 'class_0',\n",
      "       'class_5', 'class_105'],\n",
      "      dtype='object')\n",
      "[624, 124787]\n",
      "13\n",
      "Index(['P-PDG', 'P-TPT', 'T-TPT', 'P-MON-CKP', 'T-JUS-CKP', 'class_0',\n",
      "       'class_5', 'class_105'],\n",
      "      dtype='object')\n",
      "[672, 134386]\n",
      "14\n",
      "Index(['P-PDG', 'P-TPT', 'T-TPT', 'P-MON-CKP', 'T-JUS-CKP', 'class_0',\n",
      "       'class_5', 'class_105'],\n",
      "      dtype='object')\n",
      "[720, 143985]\n",
      "15\n",
      "Index(['P-PDG', 'P-TPT', 'T-TPT', 'P-MON-CKP', 'T-JUS-CKP', 'class_0',\n",
      "       'class_5', 'class_105'],\n",
      "      dtype='object')\n",
      "[768, 153584]\n",
      "16\n",
      "Index(['P-PDG', 'P-TPT', 'T-TPT', 'P-MON-CKP', 'T-JUS-CKP', 'class_0',\n",
      "       'class_5', 'class_105'],\n",
      "      dtype='object')\n",
      "[816, 163183]\n",
      "17\n",
      "Index(['P-PDG', 'P-TPT', 'T-TPT', 'P-MON-CKP', 'T-JUS-CKP', 'class_0',\n",
      "       'class_5', 'class_105'],\n",
      "      dtype='object')\n",
      "[864, 172782]\n",
      "18\n",
      "Index(['P-PDG', 'P-TPT', 'T-TPT', 'P-MON-CKP', 'T-JUS-CKP', 'class_0',\n",
      "       'class_5', 'class_105'],\n",
      "      dtype='object')\n",
      "[912, 182381]\n",
      "19\n",
      "Index(['P-PDG', 'P-TPT', 'T-TPT', 'P-MON-CKP', 'T-JUS-CKP', 'class_0',\n",
      "       'class_5', 'class_105'],\n",
      "      dtype='object')\n",
      "[960, 191980]\n"
     ]
    }
   ],
   "source": [
    "k = [0,0]\n",
    "window_length = 120\n",
    "\n",
    "instances_var_simul = []\n",
    "instances_label_simul = []\n",
    "\n",
    "for j in range(20):\n",
    "   df = time_series[j]\n",
    "   print(j)\n",
    "   print(df.columns)\n",
    "   generate_instantes_from_dataframe(instances_var_simul, instances_label_simul, df, window_length, \n",
    "                                     1, 1, k, 192, 1 )\n",
    "    \n",
    "   print( k )\n"
   ]
  },
  {
   "cell_type": "code",
   "execution_count": 25,
   "id": "ce88b3d7",
   "metadata": {},
   "outputs": [],
   "source": [
    "X_simul = np.array(instances_var_simul)\n",
    "Y_simul = np.array(instances_label_simul)"
   ]
  },
  {
   "cell_type": "markdown",
   "id": "15fbe5e9-345f-446a-9bb3-2e9dd0b3e40f",
   "metadata": {},
   "source": [
    "\n",
    "**Shuffle the data.** \n"
   ]
  },
  {
   "cell_type": "code",
   "execution_count": 26,
   "id": "a38a67c0-ff76-4499-b655-ad5b1bd559db",
   "metadata": {},
   "outputs": [],
   "source": [
    "indices = np.random.permutation(X_simul.shape[0])\n",
    "X_simul_shuffled = X_simul[indices]\n",
    "del X_simul\n",
    "Y_simul_shuffled = Y_simul[indices]\n",
    "del Y_simul"
   ]
  },
  {
   "cell_type": "code",
   "execution_count": 27,
   "id": "7bd4ad7e",
   "metadata": {
    "scrolled": true
   },
   "outputs": [
    {
     "data": {
      "text/plain": [
       "(376300, 120, 5)"
      ]
     },
     "execution_count": 27,
     "metadata": {},
     "output_type": "execute_result"
    }
   ],
   "source": [
    "X_simul_shuffled.shape"
   ]
  },
  {
   "cell_type": "code",
   "execution_count": 28,
   "id": "8738c5ec",
   "metadata": {},
   "outputs": [
    {
     "data": {
      "text/plain": [
       "(376300,)"
      ]
     },
     "execution_count": 28,
     "metadata": {},
     "output_type": "execute_result"
    }
   ],
   "source": [
    "Y_simul_shuffled.shape"
   ]
  },
  {
   "cell_type": "markdown",
   "id": "e74ef9af-cb31-4eb1-8093-8af99eb82e91",
   "metadata": {},
   "source": [
    "\n",
    "**Splitting the simulated data into training and testing.**\n"
   ]
  },
  {
   "cell_type": "code",
   "execution_count": 29,
   "id": "f1266e39-bbf7-40d5-ad5b-cc114edc447c",
   "metadata": {},
   "outputs": [],
   "source": [
    "train_simul_size = int(len(X_simul_shuffled) * 0.8)\n",
    "X_train_simul, X_test_simul = X_simul_shuffled[:train_simul_size], X_simul_shuffled[train_simul_size:]\n",
    "del X_simul_shuffled\n",
    "y_train_simul, y_test_simul = Y_simul_shuffled[:train_simul_size], Y_simul_shuffled[train_simul_size:]\n",
    "del Y_simul_shuffled"
   ]
  },
  {
   "cell_type": "code",
   "execution_count": 30,
   "id": "fd61fc62",
   "metadata": {},
   "outputs": [
    {
     "data": {
      "text/plain": [
       "(301040, 120, 5)"
      ]
     },
     "execution_count": 30,
     "metadata": {},
     "output_type": "execute_result"
    }
   ],
   "source": [
    "X_train_simul.shape"
   ]
  },
  {
   "cell_type": "code",
   "execution_count": 31,
   "id": "e1924138",
   "metadata": {},
   "outputs": [
    {
     "data": {
      "text/plain": [
       "False"
      ]
     },
     "execution_count": 31,
     "metadata": {},
     "output_type": "execute_result"
    }
   ],
   "source": [
    "np.any(np.isnan(X_test_simul))\n"
   ]
  },
  {
   "cell_type": "code",
   "execution_count": 32,
   "id": "b38cc611-bebc-4f1c-9317-07bc287ae70f",
   "metadata": {},
   "outputs": [],
   "source": [
    "checkpoint = tf.keras.callbacks.ModelCheckpoint(\n",
    "    'best_simul_model.keras',  \n",
    "    monitor='val_loss', \n",
    "    save_best_only=True,  \n",
    "    mode='min',           \n",
    "    verbose=1           \n",
    ")"
   ]
  },
  {
   "cell_type": "markdown",
   "id": "014a6e9d-4703-4408-acfe-f27ea63a6949",
   "metadata": {},
   "source": [
    "\n",
    "**Training the model with simulated data.**\n"
   ]
  },
  {
   "cell_type": "code",
   "execution_count": 33,
   "id": "69264052-2fac-4d74-8129-d6517528ba27",
   "metadata": {},
   "outputs": [
    {
     "name": "stdout",
     "output_type": "stream",
     "text": [
      "Epoch 1/30\n",
      "118/118 [==============================] - ETA: 0s - loss: 0.3172 - accuracy: 0.8769\n",
      "Epoch 1: val_loss improved from inf to 1.36113, saving model to best_simul_model.keras\n",
      "118/118 [==============================] - 61s 503ms/step - loss: 0.3172 - accuracy: 0.8769 - val_loss: 1.3611 - val_accuracy: 0.5094\n",
      "Epoch 2/30\n",
      "118/118 [==============================] - ETA: 0s - loss: 0.2820 - accuracy: 0.8778\n",
      "Epoch 2: val_loss improved from 1.36113 to 0.83719, saving model to best_simul_model.keras\n",
      "118/118 [==============================] - 66s 562ms/step - loss: 0.2820 - accuracy: 0.8778 - val_loss: 0.8372 - val_accuracy: 0.4906\n",
      "Epoch 3/30\n",
      "118/118 [==============================] - ETA: 0s - loss: 0.2495 - accuracy: 0.8920\n",
      "Epoch 3: val_loss did not improve from 0.83719\n",
      "118/118 [==============================] - 67s 572ms/step - loss: 0.2495 - accuracy: 0.8920 - val_loss: 3.5705 - val_accuracy: 0.5094\n",
      "Epoch 4/30\n",
      "118/118 [==============================] - ETA: 0s - loss: 0.2133 - accuracy: 0.9100\n",
      "Epoch 4: val_loss did not improve from 0.83719\n",
      "118/118 [==============================] - 61s 515ms/step - loss: 0.2133 - accuracy: 0.9100 - val_loss: 3.3340 - val_accuracy: 0.5094\n",
      "Epoch 5/30\n",
      "118/118 [==============================] - ETA: 0s - loss: 0.1908 - accuracy: 0.9266\n",
      "Epoch 5: val_loss improved from 0.83719 to 0.71214, saving model to best_simul_model.keras\n",
      "118/118 [==============================] - 60s 508ms/step - loss: 0.1908 - accuracy: 0.9266 - val_loss: 0.7121 - val_accuracy: 0.5426\n",
      "Epoch 6/30\n",
      "118/118 [==============================] - ETA: 0s - loss: 0.1739 - accuracy: 0.9389\n",
      "Epoch 6: val_loss improved from 0.71214 to 0.46478, saving model to best_simul_model.keras\n",
      "118/118 [==============================] - 58s 490ms/step - loss: 0.1739 - accuracy: 0.9389 - val_loss: 0.4648 - val_accuracy: 0.8634\n",
      "Epoch 7/30\n",
      "118/118 [==============================] - ETA: 0s - loss: 0.1647 - accuracy: 0.9448\n",
      "Epoch 7: val_loss did not improve from 0.46478\n",
      "118/118 [==============================] - 66s 557ms/step - loss: 0.1647 - accuracy: 0.9448 - val_loss: 0.7007 - val_accuracy: 0.5545\n",
      "Epoch 8/30\n",
      "118/118 [==============================] - ETA: 0s - loss: 0.1615 - accuracy: 0.9455\n",
      "Epoch 8: val_loss improved from 0.46478 to 0.29608, saving model to best_simul_model.keras\n",
      "118/118 [==============================] - 66s 555ms/step - loss: 0.1615 - accuracy: 0.9455 - val_loss: 0.2961 - val_accuracy: 0.9144\n",
      "Epoch 9/30\n",
      "118/118 [==============================] - ETA: 0s - loss: 0.1581 - accuracy: 0.9475\n",
      "Epoch 9: val_loss did not improve from 0.29608\n",
      "118/118 [==============================] - 63s 531ms/step - loss: 0.1581 - accuracy: 0.9475 - val_loss: 0.9177 - val_accuracy: 0.5272\n",
      "Epoch 10/30\n",
      "118/118 [==============================] - ETA: 0s - loss: 0.1492 - accuracy: 0.9516\n",
      "Epoch 10: val_loss improved from 0.29608 to 0.18990, saving model to best_simul_model.keras\n",
      "118/118 [==============================] - 58s 488ms/step - loss: 0.1492 - accuracy: 0.9516 - val_loss: 0.1899 - val_accuracy: 0.9308\n",
      "Epoch 11/30\n",
      "118/118 [==============================] - ETA: 0s - loss: 0.1559 - accuracy: 0.9476\n",
      "Epoch 11: val_loss did not improve from 0.18990\n",
      "118/118 [==============================] - 62s 528ms/step - loss: 0.1559 - accuracy: 0.9476 - val_loss: 3.3326 - val_accuracy: 0.5093\n",
      "Epoch 12/30\n",
      "118/118 [==============================] - ETA: 0s - loss: 0.1398 - accuracy: 0.9573\n",
      "Epoch 12: val_loss did not improve from 0.18990\n",
      "118/118 [==============================] - 61s 515ms/step - loss: 0.1398 - accuracy: 0.9573 - val_loss: 0.6190 - val_accuracy: 0.6367\n",
      "Epoch 13/30\n",
      "118/118 [==============================] - ETA: 0s - loss: 0.1630 - accuracy: 0.9421\n",
      "Epoch 13: val_loss improved from 0.18990 to 0.18351, saving model to best_simul_model.keras\n",
      "118/118 [==============================] - 58s 492ms/step - loss: 0.1630 - accuracy: 0.9421 - val_loss: 0.1835 - val_accuracy: 0.9360\n",
      "Epoch 14/30\n",
      "118/118 [==============================] - ETA: 0s - loss: 0.1629 - accuracy: 0.9442\n",
      "Epoch 14: val_loss did not improve from 0.18351\n",
      "118/118 [==============================] - 58s 493ms/step - loss: 0.1629 - accuracy: 0.9442 - val_loss: 0.9166 - val_accuracy: 0.8747\n",
      "Epoch 15/30\n",
      "118/118 [==============================] - ETA: 0s - loss: 0.1500 - accuracy: 0.9497\n",
      "Epoch 15: val_loss did not improve from 0.18351\n",
      "118/118 [==============================] - 66s 558ms/step - loss: 0.1500 - accuracy: 0.9497 - val_loss: 0.3964 - val_accuracy: 0.8444\n",
      "Epoch 16/30\n",
      "118/118 [==============================] - ETA: 0s - loss: 0.1348 - accuracy: 0.9555\n",
      "Epoch 16: val_loss improved from 0.18351 to 0.17416, saving model to best_simul_model.keras\n",
      "118/118 [==============================] - 65s 550ms/step - loss: 0.1348 - accuracy: 0.9555 - val_loss: 0.1742 - val_accuracy: 0.9402\n",
      "Epoch 17/30\n",
      "118/118 [==============================] - ETA: 0s - loss: 0.1268 - accuracy: 0.9595\n",
      "Epoch 17: val_loss did not improve from 0.17416\n",
      "118/118 [==============================] - 64s 538ms/step - loss: 0.1268 - accuracy: 0.9595 - val_loss: 1.2748 - val_accuracy: 0.5543\n",
      "Epoch 18/30\n",
      "118/118 [==============================] - ETA: 0s - loss: 0.1867 - accuracy: 0.9372\n",
      "Epoch 18: val_loss did not improve from 0.17416\n",
      "118/118 [==============================] - 62s 522ms/step - loss: 0.1867 - accuracy: 0.9372 - val_loss: 0.4441 - val_accuracy: 0.8761\n",
      "Epoch 19/30\n",
      "118/118 [==============================] - ETA: 0s - loss: 0.1697 - accuracy: 0.9410\n",
      "Epoch 19: val_loss did not improve from 0.17416\n",
      "118/118 [==============================] - 62s 522ms/step - loss: 0.1697 - accuracy: 0.9410 - val_loss: 9.7461 - val_accuracy: 0.5094\n",
      "Epoch 20/30\n",
      "118/118 [==============================] - ETA: 0s - loss: 0.1422 - accuracy: 0.9505\n",
      "Epoch 20: val_loss did not improve from 0.17416\n",
      "118/118 [==============================] - 55s 468ms/step - loss: 0.1422 - accuracy: 0.9505 - val_loss: 0.3544 - val_accuracy: 0.8679\n",
      "Epoch 21/30\n",
      "118/118 [==============================] - ETA: 0s - loss: 0.1651 - accuracy: 0.9448\n",
      "Epoch 21: val_loss did not improve from 0.17416\n",
      "118/118 [==============================] - 61s 517ms/step - loss: 0.1651 - accuracy: 0.9448 - val_loss: 7.6404 - val_accuracy: 0.2931\n",
      "Epoch 22/30\n",
      "118/118 [==============================] - ETA: 0s - loss: 0.2372 - accuracy: 0.8978\n",
      "Epoch 22: val_loss did not improve from 0.17416\n",
      "118/118 [==============================] - 63s 538ms/step - loss: 0.2372 - accuracy: 0.8978 - val_loss: 0.2551 - val_accuracy: 0.8784\n",
      "Epoch 23/30\n",
      "118/118 [==============================] - ETA: 0s - loss: 0.1999 - accuracy: 0.9265\n",
      "Epoch 23: val_loss did not improve from 0.17416\n",
      "118/118 [==============================] - 64s 544ms/step - loss: 0.1999 - accuracy: 0.9265 - val_loss: 0.2463 - val_accuracy: 0.8973\n",
      "Epoch 24/30\n",
      "118/118 [==============================] - ETA: 0s - loss: 0.1972 - accuracy: 0.9265\n",
      "Epoch 24: val_loss did not improve from 0.17416\n",
      "118/118 [==============================] - 63s 538ms/step - loss: 0.1972 - accuracy: 0.9265 - val_loss: 0.2311 - val_accuracy: 0.9282\n",
      "Epoch 25/30\n",
      "118/118 [==============================] - ETA: 0s - loss: 0.1837 - accuracy: 0.9328\n",
      "Epoch 25: val_loss did not improve from 0.17416\n",
      "118/118 [==============================] - 63s 535ms/step - loss: 0.1837 - accuracy: 0.9328 - val_loss: 0.2936 - val_accuracy: 0.8766\n",
      "Epoch 26/30\n",
      "118/118 [==============================] - ETA: 0s - loss: 0.1821 - accuracy: 0.9318\n",
      "Epoch 26: val_loss did not improve from 0.17416\n",
      "118/118 [==============================] - 57s 486ms/step - loss: 0.1821 - accuracy: 0.9318 - val_loss: 0.1906 - val_accuracy: 0.9273\n",
      "Epoch 27/30\n",
      "118/118 [==============================] - ETA: 0s - loss: 0.1727 - accuracy: 0.9345\n",
      "Epoch 27: val_loss did not improve from 0.17416\n",
      "118/118 [==============================] - 67s 572ms/step - loss: 0.1727 - accuracy: 0.9345 - val_loss: 0.2268 - val_accuracy: 0.9144\n",
      "Epoch 28/30\n",
      "118/118 [==============================] - ETA: 0s - loss: 0.1714 - accuracy: 0.9370\n",
      "Epoch 28: val_loss improved from 0.17416 to 0.16403, saving model to best_simul_model.keras\n",
      "118/118 [==============================] - 63s 531ms/step - loss: 0.1714 - accuracy: 0.9370 - val_loss: 0.1640 - val_accuracy: 0.9257\n",
      "Epoch 29/30\n",
      "118/118 [==============================] - ETA: 0s - loss: 0.1693 - accuracy: 0.9365\n",
      "Epoch 29: val_loss did not improve from 0.16403\n",
      "118/118 [==============================] - 64s 542ms/step - loss: 0.1693 - accuracy: 0.9365 - val_loss: 0.1967 - val_accuracy: 0.9505\n",
      "Epoch 30/30\n",
      "118/118 [==============================] - ETA: 0s - loss: 0.1654 - accuracy: 0.9388\n",
      "Epoch 30: val_loss did not improve from 0.16403\n",
      "118/118 [==============================] - 53s 452ms/step - loss: 0.1654 - accuracy: 0.9388 - val_loss: 0.2027 - val_accuracy: 0.9550\n"
     ]
    }
   ],
   "source": [
    "history = model.fit(X_train_simul, y_train_simul, \n",
    "                   epochs=30, verbose=1, batch_size=2048,\n",
    "                   validation_split=0.2, callbacks=[checkpoint]  ) "
   ]
  },
  {
   "cell_type": "markdown",
   "id": "72ac36b9-b389-4ca3-a0d2-928698594c41",
   "metadata": {},
   "source": [
    "\n",
    "**Get the accuracy in the simulated test set.**\n"
   ]
  },
  {
   "cell_type": "code",
   "execution_count": 34,
   "id": "e0759ad3-6acf-48c5-bac6-0981807fdb93",
   "metadata": {},
   "outputs": [
    {
     "name": "stdout",
     "output_type": "stream",
     "text": [
      "2352/2352 [==============================] - 10s 4ms/step - loss: 0.1634 - accuracy: 0.9266\n",
      "Accuracy in the simulated test set: 0.93\n"
     ]
    }
   ],
   "source": [
    "model = keras.models.load_model('best_simul_model.keras')\n",
    "loss, accuracy = model.evaluate(X_test_simul, y_test_simul)\n",
    "print(f'Accuracy in the simulated test set: {accuracy:.2f}')"
   ]
  },
  {
   "cell_type": "markdown",
   "id": "64daac82-24f5-4264-9ae5-985ee91c3777",
   "metadata": {},
   "source": [
    "\n",
    "**Get the metrics using simulated training and test data.**\n"
   ]
  },
  {
   "cell_type": "code",
   "execution_count": 36,
   "id": "b78a98b0-4ea9-46bd-8783-877ce65c6ca7",
   "metadata": {},
   "outputs": [
    {
     "name": "stdout",
     "output_type": "stream",
     "text": [
      "2352/2352 [==============================] - 9s 4ms/step\n",
      "Precision: 0.95, Recall: 0.90, F1 Score: 0.93\n"
     ]
    }
   ],
   "source": [
    "import tensorflow as tf\n",
    "\n",
    "precision = tf.keras.metrics.Precision()\n",
    "recall = tf.keras.metrics.Recall()\n",
    "f1 = tf.keras.metrics.Mean(name='f1_score')\n",
    "\n",
    "y_pred_simul = model.predict(X_test_simul)\n",
    "y_pred_simul_classes = (y_pred_simul > 0.5).astype(int)\n",
    "\n",
    "precision.update_state(y_test_simul, y_pred_simul_classes)\n",
    "recall.update_state(y_test_simul, y_pred_simul_classes)\n",
    "\n",
    "precision_value = precision.result().numpy()\n",
    "recall_value = recall.result().numpy()\n",
    "f1_score = 2 * (precision_value * recall_value) / (precision_value + recall_value + 1e-10)\n",
    "\n",
    "print(f'Precision: {precision_value:.2f}, Recall: {recall_value:.2f}, F1 Score: {f1_score:.2f}')"
   ]
  },
  {
   "cell_type": "markdown",
   "id": "c790c2da-beec-4ed7-b24a-dbf98695669f",
   "metadata": {},
   "source": [
    "\n",
    "**Display the confusion matrix related to the process of training with simulated data and testing with simulated data. The value 0 corresponds to the absense of problems, and the value 1 corresponds to a fault in the oil well.**\n"
   ]
  },
  {
   "cell_type": "code",
   "execution_count": 37,
   "id": "75c05964-78a6-4220-a18b-80ffb51d778b",
   "metadata": {},
   "outputs": [
    {
     "data": {
      "image/png": "[encoded data removed]",
      "text/plain": [
       "<Figure size 640x480 with 2 Axes>"
      ]
     },
     "metadata": {},
     "output_type": "display_data"
    }
   ],
   "source": [
    "import numpy as np\n",
    "import matplotlib.pyplot as plt\n",
    "import tensorflow as tf\n",
    "from sklearn.metrics import confusion_matrix, ConfusionMatrixDisplay\n",
    "from sklearn.model_selection import train_test_split\n",
    "from sklearn.datasets import make_classification\n",
    "\n",
    "cm = confusion_matrix(y_test_simul, y_pred_simul_classes.flatten())\n",
    "\n",
    "disp = ConfusionMatrixDisplay(confusion_matrix=cm)\n",
    "disp.plot(cmap='Blues')\n",
    "plt.title('Confusion Matrix')\n",
    "plt.savefig('confusion_matrix2.png', dpi = 300)\n",
    "plt.show()"
   ]
  },
  {
   "cell_type": "markdown",
   "id": "2a1547db-73f5-4d15-9616-e0f3724d4068",
   "metadata": {},
   "source": [
    "\n",
    "**Get the accuracy of training using simulated data and testing in real data. The accuracy of 52% is a strong indicator \n",
    "that there are patterns preset in real signals that are not present in the simulated one.**\n"
   ]
  },
  {
   "cell_type": "code",
   "execution_count": 38,
   "id": "3aba460d-6673-428a-84d6-ef480be7b2e9",
   "metadata": {},
   "outputs": [
    {
     "name": "stdout",
     "output_type": "stream",
     "text": [
      "1016/1016 [==============================] - 5s 4ms/step - loss: 9.7543 - accuracy: 0.5172\n",
      "Accuracy using the model trained with real data and tested in real one: 0.52\n"
     ]
    }
   ],
   "source": [
    "model = keras.models.load_model('best_simul_model.keras')\n",
    "\n",
    "loss, accuracy = model.evaluate(X_test, y_test)\n",
    "\n",
    "print(f'Accuracy using the model trained with real data and tested in real one: {accuracy:.2f}')"
   ]
  },
  {
   "cell_type": "markdown",
   "id": "3c34bcbd-b6b2-40a0-bce2-86e410762944",
   "metadata": {},
   "source": [
    "\n",
    "**Display the confusion matrix related to the process of trainig with simulated data and testing with real one. The value 0 corresponds to the absense of problems, and the value 1 corresponds to a fault in the oil well. In this case, the model has not identified any fault.**\n"
   ]
  },
  {
   "cell_type": "code",
   "execution_count": 39,
   "id": "b3399a44-d664-4b7e-9210-6034a6800c1b",
   "metadata": {},
   "outputs": [
    {
     "name": "stdout",
     "output_type": "stream",
     "text": [
      "1016/1016 [==============================] - 4s 4ms/step\n"
     ]
    },
    {
     "data": {
      "image/png": "[encoded data removed]",
      "text/plain": [
       "<Figure size 640x480 with 2 Axes>"
      ]
     },
     "metadata": {},
     "output_type": "display_data"
    }
   ],
   "source": [
    "import numpy as np\n",
    "import matplotlib.pyplot as plt\n",
    "import tensorflow as tf\n",
    "from sklearn.metrics import confusion_matrix, ConfusionMatrixDisplay\n",
    "from sklearn.model_selection import train_test_split\n",
    "from sklearn.datasets import make_classification\n",
    "\n",
    "y_pred = model.predict(X_test)\n",
    "y_pred_classes = (y_pred > 0.5).astype(int)\n",
    "cm = confusion_matrix(y_test, y_pred_classes.flatten())\n",
    "\n",
    "disp = ConfusionMatrixDisplay(confusion_matrix=cm)\n",
    "disp.plot(cmap='Blues')\n",
    "plt.title('Confusion Matrix')\n",
    "plt.savefig('confusion_matrix3.png', dpi = 300)\n",
    "plt.show()"
   ]
  }
 ],
 "metadata": {
  "kernelspec": {
   "display_name": "Python 3 (ipykernel)",
   "language": "python",
   "name": "python3"
  },
  "language_info": {
   "codemirror_mode": {
    "name": "ipython",
    "version": 3
   },
   "file_extension": ".py",
   "mimetype": "text/x-python",
   "name": "python",
   "nbconvert_exporter": "python",
   "pygments_lexer": "ipython3",
   "version": "3.11.4"
  }
 },
 "nbformat": 4,
 "nbformat_minor": 5
}
